{
 "cells": [
  {
   "cell_type": "code",
   "execution_count": 1,
   "metadata": {},
   "outputs": [],
   "source": [
    "import pandas as pd\n",
    "from unidecode import unidecode\n",
    "from sklearn.preprocessing import StandardScaler\n",
    "from sklearn.model_selection import train_test_split\n",
    "from sklearn.linear_model import LinearRegression\n",
    "from sklearn.ensemble import RandomForestRegressor\n",
    "from sklearn.svm import SVR"
   ]
  },
  {
   "cell_type": "code",
   "execution_count": 2,
   "metadata": {},
   "outputs": [
    {
     "data": {
      "text/html": [
       "<div>\n",
       "<style scoped>\n",
       "    .dataframe tbody tr th:only-of-type {\n",
       "        vertical-align: middle;\n",
       "    }\n",
       "\n",
       "    .dataframe tbody tr th {\n",
       "        vertical-align: top;\n",
       "    }\n",
       "\n",
       "    .dataframe thead th {\n",
       "        text-align: right;\n",
       "    }\n",
       "</style>\n",
       "<table border=\"1\" class=\"dataframe\">\n",
       "  <thead>\n",
       "    <tr style=\"text-align: right;\">\n",
       "      <th></th>\n",
       "      <th>token</th>\n",
       "      <th>description</th>\n",
       "      <th>کارکرد</th>\n",
       "      <th>مدل (سال تولید)</th>\n",
       "      <th>رنگ</th>\n",
       "      <th>برند و تیپ</th>\n",
       "      <th>وضعیت موتور</th>\n",
       "      <th>وضعیت شاسی‌ها</th>\n",
       "      <th>وضعیت بدنه</th>\n",
       "      <th>مهلت بیمهٔ شخص ثالث</th>\n",
       "      <th>گیربکس</th>\n",
       "      <th>نحوه فروش</th>\n",
       "      <th>قیمت</th>\n",
       "      <th>وضعیت شاسی جلو</th>\n",
       "      <th>وضعیت شاسی عقب</th>\n",
       "      <th>نمایشگاه</th>\n",
       "      <th>فروشنده</th>\n",
       "    </tr>\n",
       "  </thead>\n",
       "  <tbody>\n",
       "    <tr>\n",
       "      <th>0</th>\n",
       "      <td>gYm2gKmf</td>\n",
       "      <td>دوگانه کم کار کرد موتوری و بدنه خیالت راحت ...</td>\n",
       "      <td>۱۲۸٬۰۴۷</td>\n",
       "      <td>۱۳۸۱</td>\n",
       "      <td>سفید</td>\n",
       "      <td>پیکان، وانت</td>\n",
       "      <td>سالم</td>\n",
       "      <td>سالم و پلمپ</td>\n",
       "      <td>خط و خش جزیی</td>\n",
       "      <td>۱۲ ماه</td>\n",
       "      <td>دنده‌ای</td>\n",
       "      <td>نقدی</td>\n",
       "      <td>۷۵٬۰۰۰٬۰۰۰ تومان</td>\n",
       "      <td>NaN</td>\n",
       "      <td>NaN</td>\n",
       "      <td>NaN</td>\n",
       "      <td>NaN</td>\n",
       "    </tr>\n",
       "    <tr>\n",
       "      <th>1</th>\n",
       "      <td>gYm6wYlI</td>\n",
       "      <td>سمند  دوگانه  سالم\\nتک  برگ  سند  \\nلاستیک  و ...</td>\n",
       "      <td>۱۷۵٬۰۰۰</td>\n",
       "      <td>۱۳۹۴</td>\n",
       "      <td>سرمه‌ای</td>\n",
       "      <td>سمند، LX، EF7 گازسوز</td>\n",
       "      <td>سالم</td>\n",
       "      <td>سالم و پلمپ</td>\n",
       "      <td>خط و خش جزیی</td>\n",
       "      <td>۴ ماه</td>\n",
       "      <td>دنده‌ای</td>\n",
       "      <td>نقدی</td>\n",
       "      <td>۲۳۵٬۰۰۰٬۰۰۰ تومان</td>\n",
       "      <td>NaN</td>\n",
       "      <td>NaN</td>\n",
       "      <td>NaN</td>\n",
       "      <td>NaN</td>\n",
       "    </tr>\n",
       "    <tr>\n",
       "      <th>2</th>\n",
       "      <td>gYh2voal</td>\n",
       "      <td>با سلام برگا کارشناسی عکس اخر\\nضربه شاسی شدید ...</td>\n",
       "      <td>۲۲۹٬۵۰۰</td>\n",
       "      <td>۱۳۹۴</td>\n",
       "      <td>سفید</td>\n",
       "      <td>پراید، 131، SE</td>\n",
       "      <td>سالم</td>\n",
       "      <td>NaN</td>\n",
       "      <td>رنگ‌شدگی در ۱ ناحیه</td>\n",
       "      <td>۸ ماه</td>\n",
       "      <td>دنده‌ای</td>\n",
       "      <td>نقدی</td>\n",
       "      <td>۱۱۵٬۵۰۰٬۰۰۰ تومان</td>\n",
       "      <td>ضربه‌خورده</td>\n",
       "      <td>NaN</td>\n",
       "      <td>NaN</td>\n",
       "      <td>NaN</td>\n",
       "    </tr>\n",
       "    <tr>\n",
       "      <th>3</th>\n",
       "      <td>gYm2gDxP</td>\n",
       "      <td>کارکرد ماشین باتوجه به مدل ماشین خیلی عالیه و ...</td>\n",
       "      <td>۱۱۵٬۰۰۰</td>\n",
       "      <td>۱۳۸۳</td>\n",
       "      <td>نقره‌ای</td>\n",
       "      <td>پژو، پارس، ساده</td>\n",
       "      <td>سالم</td>\n",
       "      <td>سالم و پلمپ</td>\n",
       "      <td>خط و خش جزیی</td>\n",
       "      <td>۲ ماه</td>\n",
       "      <td>دنده‌ای</td>\n",
       "      <td>نقدی</td>\n",
       "      <td>۱۳۵٬۰۰۰٬۰۰۰ تومان</td>\n",
       "      <td>NaN</td>\n",
       "      <td>NaN</td>\n",
       "      <td>NaN</td>\n",
       "      <td>NaN</td>\n",
       "    </tr>\n",
       "    <tr>\n",
       "      <th>4</th>\n",
       "      <td>gYmygfmA</td>\n",
       "      <td>سلام\\n۴۰۵ نوک مدادی\\nمدل ۹۱\\nفنی بسیار سالم\\nت...</td>\n",
       "      <td>۲۳۰٬۰۰۰</td>\n",
       "      <td>۱۳۹۱</td>\n",
       "      <td>نوک‌مدادی</td>\n",
       "      <td>پژو، 405، GLX بنزینی</td>\n",
       "      <td>سالم</td>\n",
       "      <td>NaN</td>\n",
       "      <td>NaN</td>\n",
       "      <td>۶ ماه</td>\n",
       "      <td>دنده‌ای</td>\n",
       "      <td>نقدی</td>\n",
       "      <td>۱۳۵٬۰۰۰٬۰۰۰ تومان</td>\n",
       "      <td>NaN</td>\n",
       "      <td>NaN</td>\n",
       "      <td>NaN</td>\n",
       "      <td>NaN</td>\n",
       "    </tr>\n",
       "  </tbody>\n",
       "</table>\n",
       "</div>"
      ],
      "text/plain": [
       "      token                                        description   کارکرد  \\\n",
       "0  gYm2gKmf     دوگانه کم کار کرد موتوری و بدنه خیالت راحت ...  ۱۲۸٬۰۴۷   \n",
       "1  gYm6wYlI  سمند  دوگانه  سالم\\nتک  برگ  سند  \\nلاستیک  و ...  ۱۷۵٬۰۰۰   \n",
       "2  gYh2voal  با سلام برگا کارشناسی عکس اخر\\nضربه شاسی شدید ...  ۲۲۹٬۵۰۰   \n",
       "3  gYm2gDxP  کارکرد ماشین باتوجه به مدل ماشین خیلی عالیه و ...  ۱۱۵٬۰۰۰   \n",
       "4  gYmygfmA  سلام\\n۴۰۵ نوک مدادی\\nمدل ۹۱\\nفنی بسیار سالم\\nت...  ۲۳۰٬۰۰۰   \n",
       "\n",
       "  مدل (سال تولید)        رنگ            برند و تیپ وضعیت موتور وضعیت شاسی‌ها  \\\n",
       "0            ۱۳۸۱       سفید           پیکان، وانت        سالم   سالم و پلمپ   \n",
       "1            ۱۳۹۴    سرمه‌ای  سمند، LX، EF7 گازسوز        سالم   سالم و پلمپ   \n",
       "2            ۱۳۹۴       سفید        پراید، 131، SE        سالم           NaN   \n",
       "3            ۱۳۸۳    نقره‌ای       پژو، پارس، ساده        سالم   سالم و پلمپ   \n",
       "4            ۱۳۹۱  نوک‌مدادی  پژو، 405، GLX بنزینی        سالم           NaN   \n",
       "\n",
       "            وضعیت بدنه مهلت بیمهٔ شخص ثالث   گیربکس نحوه فروش  \\\n",
       "0         خط و خش جزیی              ۱۲ ماه  دنده‌ای      نقدی   \n",
       "1         خط و خش جزیی               ۴ ماه  دنده‌ای      نقدی   \n",
       "2  رنگ‌شدگی در ۱ ناحیه               ۸ ماه  دنده‌ای      نقدی   \n",
       "3         خط و خش جزیی               ۲ ماه  دنده‌ای      نقدی   \n",
       "4                  NaN               ۶ ماه  دنده‌ای      نقدی   \n",
       "\n",
       "                قیمت وضعیت شاسی جلو وضعیت شاسی عقب نمایشگاه فروشنده  \n",
       "0   ۷۵٬۰۰۰٬۰۰۰ تومان            NaN            NaN      NaN     NaN  \n",
       "1  ۲۳۵٬۰۰۰٬۰۰۰ تومان            NaN            NaN      NaN     NaN  \n",
       "2  ۱۱۵٬۵۰۰٬۰۰۰ تومان     ضربه‌خورده            NaN      NaN     NaN  \n",
       "3  ۱۳۵٬۰۰۰٬۰۰۰ تومان            NaN            NaN      NaN     NaN  \n",
       "4  ۱۳۵٬۰۰۰٬۰۰۰ تومان            NaN            NaN      NaN     NaN  "
      ]
     },
     "execution_count": 2,
     "metadata": {},
     "output_type": "execute_result"
    }
   ],
   "source": [
    "df = pd.read_csv('data.csv').drop_duplicates()\n",
    "df.head()"
   ]
  },
  {
   "cell_type": "code",
   "execution_count": 3,
   "metadata": {},
   "outputs": [
    {
     "name": "stdout",
     "output_type": "stream",
     "text": [
      "<class 'pandas.core.frame.DataFrame'>\n",
      "Int64Index: 7322 entries, 0 to 9584\n",
      "Data columns (total 17 columns):\n",
      " #   Column               Non-Null Count  Dtype \n",
      "---  ------               --------------  ----- \n",
      " 0   token                7322 non-null   object\n",
      " 1   description          7322 non-null   object\n",
      " 2   کارکرد               7322 non-null   object\n",
      " 3   مدل (سال تولید)      7322 non-null   object\n",
      " 4   رنگ                  7322 non-null   object\n",
      " 5   برند و تیپ           6220 non-null   object\n",
      " 6   وضعیت موتور          7182 non-null   object\n",
      " 7   وضعیت شاسی‌ها        6541 non-null   object\n",
      " 8   وضعیت بدنه           7165 non-null   object\n",
      " 9   مهلت بیمهٔ شخص ثالث  6954 non-null   object\n",
      " 10  گیربکس               7014 non-null   object\n",
      " 11  نحوه فروش            6983 non-null   object\n",
      " 12  قیمت                 7253 non-null   object\n",
      " 13  وضعیت شاسی جلو       1454 non-null   object\n",
      " 14  وضعیت شاسی عقب       519 non-null    object\n",
      " 15  نمایشگاه             373 non-null    object\n",
      " 16  فروشنده              322 non-null    object\n",
      "dtypes: object(17)\n",
      "memory usage: 543.4+ KB\n"
     ]
    }
   ],
   "source": [
    "df.info()"
   ]
  },
  {
   "cell_type": "code",
   "execution_count": 4,
   "metadata": {},
   "outputs": [
    {
     "data": {
      "text/plain": [
       "5870"
      ]
     },
     "execution_count": 4,
     "metadata": {},
     "output_type": "execute_result"
    }
   ],
   "source": [
    "df['token'].nunique()"
   ]
  },
  {
   "cell_type": "code",
   "execution_count": 5,
   "metadata": {},
   "outputs": [
    {
     "data": {
      "text/plain": [
       "array([nan, 'کارنامه', 'فروشنده', 'وضعیت شاسی عقب', 'سالم و پلمپ',\n",
       "       'رنگ\\u200cشده', 'ضربه\\u200cخورده', 'نمایشگاه',\n",
       "       'نمایندگی کد 367 مدیران خودرو', 'اتو سلیمانی', 'اتوگالری فرخ',\n",
       "       'نمایندگی کد 350 مدیران خودرو دهقانپور',\n",
       "       'نمایندگی کد 246 مدیران خودرو MVM دانشگاه شریف',\n",
       "       'ارژنگ خودرو پارسیان', 'اتوگالری غفاری', 'اتو گالرى طهران',\n",
       "       'اتو بردیا', 'اتوگالری هخامنش', 'خودرو شاپ', 'همتی خودرو',\n",
       "       'نمایندگی کد 447 مدیران خودرو فرقانی',\n",
       "       'نمایندگی مدیران خودرو کد 246 حیدری فاطمی',\n",
       "       'نمایندگی مدیران خودرو کد777(شعبه تهران)', 'مهراد خودرو',\n",
       "       'نمایندگی کد 236 هیوندای', 'اتوگالری محمد', 'رسالت خودرو',\n",
       "       'تهران خودرو', 'آراز خودرو'], dtype=object)"
      ]
     },
     "execution_count": 5,
     "metadata": {},
     "output_type": "execute_result"
    }
   ],
   "source": [
    "df.iloc[:,-1].unique()"
   ]
  },
  {
   "cell_type": "code",
   "execution_count": null,
   "metadata": {},
   "outputs": [],
   "source": [
    "df = df[df['مدل (سال تولید)'] != 'قبل از ۱۳۶۶']"
   ]
  },
  {
   "cell_type": "code",
   "execution_count": null,
   "metadata": {},
   "outputs": [],
   "source": [
    "df['کارکرد'] = df['کارکرد'].apply(lambda x: unidecode(x)).str.replace(',', '').astype(int)"
   ]
  },
  {
   "cell_type": "code",
   "execution_count": null,
   "metadata": {},
   "outputs": [],
   "source": [
    "df['مدل (سال تولید)'] = df['مدل (سال تولید)'].apply(lambda x: unidecode(x)).str.replace(',', '').astype(int)"
   ]
  },
  {
   "cell_type": "code",
   "execution_count": null,
   "metadata": {},
   "outputs": [],
   "source": [
    "df['مهلت بیمهٔ شخص ثالث'] = df['مهلت بیمهٔ شخص ثالث'].str.replace('ماه', '').apply(lambda x: unidecode(str(x))).astype(float)"
   ]
  },
  {
   "cell_type": "code",
   "execution_count": null,
   "metadata": {},
   "outputs": [],
   "source": [
    "df['قیمت'] = df['قیمت'].str.replace('تومان', '').apply(lambda x: unidecode(x)).str.replace(',', '').str.extract('(\\d+)').astype(float)"
   ]
  },
  {
   "cell_type": "code",
   "execution_count": null,
   "metadata": {},
   "outputs": [],
   "source": [
    "df.head()"
   ]
  },
  {
   "cell_type": "code",
   "execution_count": null,
   "metadata": {},
   "outputs": [],
   "source": [
    "data = df.copy().drop(['token', 'description', 'نمایشگاه', 'فروشنده', 'وضعیت شاسی عقب', 'وضعیت شاسی جلو', 'برند و تیپ'], axis = 1)"
   ]
  },
  {
   "cell_type": "code",
   "execution_count": null,
   "metadata": {},
   "outputs": [],
   "source": [
    "categorical_cols = []\n",
    "for col in data.columns:\n",
    "    if data[col].dtypes == 'object':\n",
    "        categorical_cols.append(col)\n",
    "print(categorical_cols)"
   ]
  },
  {
   "cell_type": "code",
   "execution_count": null,
   "metadata": {},
   "outputs": [],
   "source": [
    "data = pd.concat([data, pd.get_dummies(data[categorical_cols], drop_first=True)], axis=1)\n",
    "data.drop(categorical_cols, axis=1, inplace=True)\n",
    "data.head()"
   ]
  },
  {
   "cell_type": "code",
   "execution_count": null,
   "metadata": {},
   "outputs": [],
   "source": [
    "for col in categorical_cols:\n",
    "    print(col, df[col].nunique())"
   ]
  },
  {
   "cell_type": "code",
   "execution_count": null,
   "metadata": {},
   "outputs": [],
   "source": [
    "X = data.dropna().iloc[:, data.columns!='قیمت']\n",
    "y = data.dropna().iloc[:, 3]"
   ]
  },
  {
   "cell_type": "code",
   "execution_count": null,
   "metadata": {},
   "outputs": [],
   "source": [
    "X_train, X_test, y_train, y_test = train_test_split(X, y, test_size=0.3, random_state=4)"
   ]
  },
  {
   "cell_type": "code",
   "execution_count": null,
   "metadata": {},
   "outputs": [],
   "source": [
    "sc = StandardScaler()\n",
    "X_train = sc.fit_transform(X_train)\n",
    "X_test = sc.transform(X_test)"
   ]
  },
  {
   "cell_type": "code",
   "execution_count": null,
   "metadata": {},
   "outputs": [],
   "source": [
    "regressor_lr = LinearRegression()\n",
    "regressor_lr.fit(X_train, y_train)"
   ]
  },
  {
   "cell_type": "code",
   "execution_count": null,
   "metadata": {},
   "outputs": [],
   "source": [
    "regressor_lr.score(X_train, y_train)"
   ]
  },
  {
   "cell_type": "code",
   "execution_count": null,
   "metadata": {},
   "outputs": [],
   "source": [
    "regressor_lr.score(X_test, y_test)"
   ]
  }
 ],
 "metadata": {
  "interpreter": {
   "hash": "1a491c8532b73341f2ac65ee5cbdce5e4aabed38266774a1b5d563a7b58f24cb"
  },
  "kernelspec": {
   "display_name": "Python 3.8.5 ('venv': venv)",
   "language": "python",
   "name": "python3"
  },
  "language_info": {
   "codemirror_mode": {
    "name": "ipython",
    "version": 3
   },
   "file_extension": ".py",
   "mimetype": "text/x-python",
   "name": "python",
   "nbconvert_exporter": "python",
   "pygments_lexer": "ipython3",
   "version": "3.8.5"
  },
  "orig_nbformat": 4
 },
 "nbformat": 4,
 "nbformat_minor": 2
}
